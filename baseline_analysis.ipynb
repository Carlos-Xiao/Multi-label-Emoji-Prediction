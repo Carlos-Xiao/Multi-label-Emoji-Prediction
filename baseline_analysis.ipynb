{
 "cells": [
  {
   "cell_type": "code",
   "execution_count": 1,
   "id": "1ab5bc05",
   "metadata": {},
   "outputs": [],
   "source": [
    "import pandas as pd\n",
    "import numpy as np\n",
    "import random\n",
    "random.seed(42)\n",
    "\n",
    "import matplotlib.pyplot as plt\n",
    "\n",
    "from collections import Counter\n",
    "from sklearn.metrics.pairwise import cosine_similarity\n",
    "from sklearn.metrics import precision_score, recall_score, f1_score\n",
    "from matplotlib.font_manager import FontProperties"
   ]
  },
  {
   "cell_type": "code",
   "execution_count": 2,
   "id": "dae431b9",
   "metadata": {},
   "outputs": [],
   "source": [
    "train_000 = pd.read_csv(\"train-00000.csv\")\n",
    "train_001 = pd.read_csv(\"train-00001.csv\")\n",
    "\n",
    "df = pd.concat([train_000, train_001])\n",
    "df_arr = np.array(df.iloc[:, 2:]) # ground truth"
   ]
  },
  {
   "cell_type": "code",
   "execution_count": 3,
   "id": "473716b3",
   "metadata": {},
   "outputs": [
    {
     "data": {
      "text/plain": [
       "❤️    21556\n",
       "🔥     13590\n",
       "✨     12237\n",
       "dtype: int64"
      ]
     },
     "execution_count": 3,
     "metadata": {},
     "output_type": "execute_result"
    }
   ],
   "source": [
    "popularity = df.iloc[:, 2:].sum(axis=0).sort_values(ascending=False)\n",
    "popularity[:3]"
   ]
  },
  {
   "cell_type": "code",
   "execution_count": 4,
   "id": "efe1a163",
   "metadata": {},
   "outputs": [
    {
     "data": {
      "text/plain": [
       "[(1, 116823),\n",
       " (2, 14704),\n",
       " (3, 1954),\n",
       " (4, 329),\n",
       " (5, 99),\n",
       " (6, 18),\n",
       " (7, 4),\n",
       " (8, 2)]"
      ]
     },
     "execution_count": 4,
     "metadata": {},
     "output_type": "execute_result"
    }
   ],
   "source": [
    "usage = sorted(Counter(df.iloc[:, 2:].sum(axis=1)).items())\n",
    "usage[1:]"
   ]
  },
  {
   "cell_type": "code",
   "execution_count": 5,
   "id": "9a88e284",
   "metadata": {},
   "outputs": [],
   "source": [
    "emoji2id = {emoji: i for i, emoji in enumerate(df.iloc[:, 2:].columns)}\n",
    "id2emoji = {i: emoji for i, emoji in enumerate(df.iloc[:, 2:].columns)}"
   ]
  },
  {
   "cell_type": "markdown",
   "id": "c4990651",
   "metadata": {},
   "source": [
    "### Baselines"
   ]
  },
  {
   "cell_type": "markdown",
   "id": "d1e91235",
   "metadata": {},
   "source": [
    "### RND All"
   ]
  },
  {
   "cell_type": "code",
   "execution_count": 6,
   "id": "ec7877db",
   "metadata": {},
   "outputs": [
    {
     "data": {
      "text/plain": [
       "array([[False, False, False, ...,  True, False, False],\n",
       "       [False, False, False, ..., False, False, False],\n",
       "       [False, False, False, ..., False, False, False],\n",
       "       ...,\n",
       "       [False, False, False, ..., False, False, False],\n",
       "       [False, False, False, ..., False, False, False],\n",
       "       [False, False, False, ..., False, False, False]])"
      ]
     },
     "execution_count": 6,
     "metadata": {},
     "output_type": "execute_result"
    }
   ],
   "source": [
    "rand_arr = np.zeros_like(df_arr)\n",
    "\n",
    "for i in range(rand_arr.shape[0]):\n",
    "    j = np.random.randint(rand_arr.shape[1])\n",
    "    rand_arr[i, j] = True\n",
    "\n",
    "rand_arr"
   ]
  },
  {
   "cell_type": "code",
   "execution_count": 7,
   "id": "62ba66da",
   "metadata": {},
   "outputs": [
    {
     "name": "stdout",
     "output_type": "stream",
     "text": [
      "Red Heart Precision: 0.16696873584050748\n",
      "Red Heart Recall: 0.03419001670068658\n",
      "Red Heart F1 Score: 0.05675779745860608\n"
     ]
    }
   ],
   "source": [
    "print(\"Red Heart Precision:\", precision_score(df_arr, rand_arr, average=None, zero_division=0)[emoji2id['❤️']])\n",
    "print(\"Red Heart Recall:\",    recall_score(df_arr, rand_arr, average=None, zero_division=0)[emoji2id['❤️']])\n",
    "print(\"Red Heart F1 Score:\",  f1_score(df_arr, rand_arr, average=None, zero_division=0)[emoji2id['❤️']])"
   ]
  },
  {
   "cell_type": "code",
   "execution_count": 8,
   "id": "3ae712ed",
   "metadata": {},
   "outputs": [
    {
     "name": "stdout",
     "output_type": "stream",
     "text": [
      "Micro F1 Score: 0.03508491869044066 Macro F1 Score: 0.027901239587799796\n"
     ]
    }
   ],
   "source": [
    "micro_f1 = f1_score(df_arr, rand_arr, average='micro')\n",
    "macro_f1 = f1_score(df_arr, rand_arr, average='macro')\n",
    "\n",
    "print(\"Micro F1 Score:\", micro_f1, \"Macro F1 Score:\", macro_f1)"
   ]
  },
  {
   "cell_type": "code",
   "execution_count": 9,
   "id": "69c472e2",
   "metadata": {},
   "outputs": [
    {
     "name": "stdout",
     "output_type": "stream",
     "text": [
      "Cosine Similarity: 0.034778045608984356\n"
     ]
    }
   ],
   "source": [
    "cosine_similarities = []\n",
    "\n",
    "for i in range(df_arr.shape[0]):\n",
    "    cosine_sim = cosine_similarity(df_arr[i].reshape(1, -1), rand_arr[i].reshape(1, -1))\n",
    "    cosine_similarities.append(cosine_sim[0][0])\n",
    "\n",
    "print(\"Cosine Similarity:\", np.mean(cosine_similarities))"
   ]
  },
  {
   "cell_type": "markdown",
   "id": "f75d593d",
   "metadata": {},
   "source": [
    "### RND 15"
   ]
  },
  {
   "cell_type": "code",
   "execution_count": 10,
   "id": "a719116b",
   "metadata": {},
   "outputs": [
    {
     "data": {
      "text/plain": [
       "Index(['❤️', '🔥', '✨', '👇', '🙏', '👉', '🙌', '🎉', '👏', '👀', '👍', '💪', '🎶', '🤷',\n",
       "       '🎁'],\n",
       "      dtype='object')"
      ]
     },
     "execution_count": 10,
     "metadata": {},
     "output_type": "execute_result"
    }
   ],
   "source": [
    "popularity.index[:15]"
   ]
  },
  {
   "cell_type": "code",
   "execution_count": 11,
   "id": "065525f8",
   "metadata": {},
   "outputs": [
    {
     "data": {
      "text/plain": [
       "array([[False, False, False, ..., False, False, False],\n",
       "       [False, False, False, ..., False, False, False],\n",
       "       [False,  True, False, ..., False, False, False],\n",
       "       ...,\n",
       "       [False, False,  True, ..., False, False, False],\n",
       "       [False, False, False, ..., False, False, False],\n",
       "       [False, False, False, ..., False, False, False]])"
      ]
     },
     "execution_count": 11,
     "metadata": {},
     "output_type": "execute_result"
    }
   ],
   "source": [
    "rand_arr = np.zeros_like(df_arr)\n",
    "\n",
    "for i in range(rand_arr.shape[0]):\n",
    "    j = emoji2id[np.random.choice(popularity.index[:15])]\n",
    "    rand_arr[i, j] = True\n",
    "\n",
    "rand_arr"
   ]
  },
  {
   "cell_type": "code",
   "execution_count": 12,
   "id": "c9f03280",
   "metadata": {},
   "outputs": [
    {
     "name": "stdout",
     "output_type": "stream",
     "text": [
      "Red Heart Precision: 0.1623653500897666\n",
      "Red Heart Recall: 0.06712748190758953\n",
      "Red Heart F1 Score: 0.09498490219246421\n"
     ]
    }
   ],
   "source": [
    "print(\"Red Heart Precision:\", precision_score(df_arr, rand_arr, average=None, zero_division=0)[emoji2id['❤️']])\n",
    "print(\"Red Heart Recall:\",    recall_score(df_arr, rand_arr, average=None, zero_division=0)[emoji2id['❤️']])\n",
    "print(\"Red Heart F1 Score:\",  f1_score(df_arr, rand_arr, average=None, zero_division=0)[emoji2id['❤️']])"
   ]
  },
  {
   "cell_type": "code",
   "execution_count": 13,
   "id": "d8b3a9a1",
   "metadata": {},
   "outputs": [
    {
     "name": "stdout",
     "output_type": "stream",
     "text": [
      "Micro F1 Score: 0.0615218040102999 Macro F1 Score: 0.03094346939553139\n"
     ]
    }
   ],
   "source": [
    "micro_f1 = f1_score(df_arr, rand_arr, average='micro')\n",
    "macro_f1 = f1_score(df_arr, rand_arr, average='macro')\n",
    "\n",
    "print(\"Micro F1 Score:\", micro_f1, \"Macro F1 Score:\", macro_f1)"
   ]
  },
  {
   "cell_type": "code",
   "execution_count": 14,
   "id": "9fbf5aeb",
   "metadata": {},
   "outputs": [
    {
     "name": "stdout",
     "output_type": "stream",
     "text": [
      "Cosine Similarity: 0.061268039726896574\n"
     ]
    }
   ],
   "source": [
    "cosine_similarities = []\n",
    "\n",
    "for i in range(df_arr.shape[0]):\n",
    "    cosine_sim = cosine_similarity(df_arr[i].reshape(1, -1), rand_arr[i].reshape(1, -1))\n",
    "    cosine_similarities.append(cosine_sim[0][0])\n",
    "\n",
    "print(\"Cosine Similarity:\", np.mean(cosine_similarities))"
   ]
  },
  {
   "cell_type": "markdown",
   "id": "e4071107",
   "metadata": {},
   "source": [
    "### Top - 1"
   ]
  },
  {
   "cell_type": "code",
   "execution_count": 15,
   "id": "d0f07b3c",
   "metadata": {},
   "outputs": [
    {
     "data": {
      "text/plain": [
       "array([[False, False, False, ..., False, False, False],\n",
       "       [False, False, False, ..., False, False, False],\n",
       "       [False, False, False, ..., False, False, False],\n",
       "       ...,\n",
       "       [False, False, False, ..., False, False, False],\n",
       "       [False, False, False, ..., False, False, False],\n",
       "       [False, False, False, ..., False, False, False]])"
      ]
     },
     "execution_count": 15,
     "metadata": {},
     "output_type": "execute_result"
    }
   ],
   "source": [
    "top_arr = np.zeros_like(df_arr)\n",
    "\n",
    "j = emoji2id[popularity.index[0]]\n",
    "top_arr[:, j] = True\n",
    "\n",
    "top_arr"
   ]
  },
  {
   "cell_type": "code",
   "execution_count": 16,
   "id": "ac12087e",
   "metadata": {},
   "outputs": [
    {
     "name": "stdout",
     "output_type": "stream",
     "text": [
      "Red Heart Precision: 0.1607433147902343\n",
      "Red Heart Recall: 1.0\n",
      "Red Heart F1 Score: 0.27696616942270874\n"
     ]
    }
   ],
   "source": [
    "print(\"Red Heart Precision:\", precision_score(df_arr, top_arr, average=None, zero_division=0)[emoji2id['❤️']])\n",
    "print(\"Red Heart Recall:\",    recall_score(df_arr, top_arr, average=None, zero_division=0)[emoji2id['❤️']])\n",
    "print(\"Red Heart F1 Score:\",  f1_score(df_arr, top_arr, average=None, zero_division=0)[emoji2id['❤️']])"
   ]
  },
  {
   "cell_type": "code",
   "execution_count": 17,
   "id": "a6999998",
   "metadata": {},
   "outputs": [
    {
     "name": "stdout",
     "output_type": "stream",
     "text": [
      "Micro F1 Score: 0.1496123654384053 Macro F1 Score: 0.009232205647423625\n"
     ]
    }
   ],
   "source": [
    "micro_f1 = f1_score(df_arr, top_arr, average='micro')\n",
    "macro_f1 = f1_score(df_arr, top_arr, average='macro')\n",
    "\n",
    "print(\"Micro F1 Score:\", micro_f1, \"Macro F1 Score:\", macro_f1)"
   ]
  },
  {
   "cell_type": "code",
   "execution_count": 18,
   "id": "fe2489ff",
   "metadata": {},
   "outputs": [
    {
     "name": "stdout",
     "output_type": "stream",
     "text": [
      "Cosine Similarity: 0.15079203033998928\n"
     ]
    }
   ],
   "source": [
    "cosine_similarities = []\n",
    "\n",
    "for i in range(df_arr.shape[0]):\n",
    "    cosine_sim = cosine_similarity(df_arr[i].reshape(1, -1), top_arr[i].reshape(1, -1))\n",
    "    cosine_similarities.append(cosine_sim[0][0])\n",
    "\n",
    "print(\"Cosine Similarity:\", np.mean(cosine_similarities))"
   ]
  },
  {
   "cell_type": "markdown",
   "id": "44efdd6f",
   "metadata": {},
   "source": [
    "### Top - 2"
   ]
  },
  {
   "cell_type": "code",
   "execution_count": 19,
   "id": "29bc37c0",
   "metadata": {},
   "outputs": [],
   "source": [
    "j = emoji2id[popularity.index[1]]\n",
    "top_arr[:, j] = True"
   ]
  },
  {
   "cell_type": "code",
   "execution_count": 20,
   "id": "514ddad7",
   "metadata": {},
   "outputs": [
    {
     "name": "stdout",
     "output_type": "stream",
     "text": [
      "Red Heart Precision: 0.1607433147902343\n",
      "Red Heart Recall: 1.0\n",
      "Red Heart F1 Score: 0.27696616942270874\n"
     ]
    }
   ],
   "source": [
    "print(\"Red Heart Precision:\", precision_score(df_arr, top_arr, average=None, zero_division=0)[emoji2id['❤️']])\n",
    "print(\"Red Heart Recall:\",    recall_score(df_arr, top_arr, average=None, zero_division=0)[emoji2id['❤️']])\n",
    "print(\"Red Heart F1 Score:\",  f1_score(df_arr, top_arr, average=None, zero_division=0)[emoji2id['❤️']])"
   ]
  },
  {
   "cell_type": "code",
   "execution_count": 21,
   "id": "b51179ad",
   "metadata": {},
   "outputs": [
    {
     "name": "stdout",
     "output_type": "stream",
     "text": [
      "Micro F1 Score: 0.16646615829110026 Macro F1 Score: 0.015366593427398167\n"
     ]
    }
   ],
   "source": [
    "micro_f1 = f1_score(df_arr, top_arr, average='micro')\n",
    "macro_f1 = f1_score(df_arr, top_arr, average='macro')\n",
    "\n",
    "print(\"Micro F1 Score:\", micro_f1, \"Macro F1 Score:\", macro_f1)"
   ]
  },
  {
   "cell_type": "code",
   "execution_count": 22,
   "id": "70511f7a",
   "metadata": {},
   "outputs": [
    {
     "name": "stdout",
     "output_type": "stream",
     "text": [
      "Cosine Similarity: 0.1712088917076672\n"
     ]
    }
   ],
   "source": [
    "cosine_similarities = []\n",
    "\n",
    "for i in range(df_arr.shape[0]):\n",
    "    cosine_sim = cosine_similarity(df_arr[i].reshape(1, -1), top_arr[i].reshape(1, -1))\n",
    "    cosine_similarities.append(cosine_sim[0][0])\n",
    "\n",
    "print(\"Cosine Similarity:\", np.mean(cosine_similarities))"
   ]
  },
  {
   "cell_type": "code",
   "execution_count": 23,
   "id": "e2dea0e9",
   "metadata": {},
   "outputs": [],
   "source": [
    "font_path = 'TwitterColorEmoji-SVGinOT.ttf'\n",
    "font_prop = FontProperties(fname=font_path, size=15)"
   ]
  },
  {
   "cell_type": "code",
   "execution_count": 24,
   "id": "bdbd9b5e",
   "metadata": {},
   "outputs": [
    {
     "name": "stderr",
     "output_type": "stream",
     "text": [
      "C:\\ProgramData\\anaconda3\\lib\\site-packages\\IPython\\core\\pylabtools.py:152: UserWarning: Glyph 108 (l) missing from current font.\n",
      "  fig.canvas.print_figure(bytes_io, **kw)\n",
      "C:\\ProgramData\\anaconda3\\lib\\site-packages\\IPython\\core\\pylabtools.py:152: UserWarning: Glyph 112 (p) missing from current font.\n",
      "  fig.canvas.print_figure(bytes_io, **kw)\n"
     ]
    },
    {
     "data": {
      "image/png": "[encoded data removed]",
      "text/plain": [
       "<Figure size 1000x600 with 1 Axes>"
      ]
     },
     "metadata": {},
     "output_type": "display_data"
    }
   ],
   "source": [
    "f_arr = f1_score(df_arr, rand_arr, average=None, zero_division=0)\n",
    "x = popularity.index[:15]\n",
    "y = [f_arr[emoji2id[_]] for _ in x]\n",
    "\n",
    "plt.figure(figsize=(10, 6))\n",
    "plt.bar(x, y)\n",
    "plt.ylabel('F1', size=15)\n",
    "plt.xlabel('Emojis', size=15)\n",
    "plt.xticks(x, fontproperties=font_prop)\n",
    "plt.show()"
   ]
  }
 ],
 "metadata": {
  "kernelspec": {
   "display_name": "Python 3 (ipykernel)",
   "language": "python",
   "name": "python3"
  },
  "language_info": {
   "codemirror_mode": {
    "name": "ipython",
    "version": 3
   },
   "file_extension": ".py",
   "mimetype": "text/x-python",
   "name": "python",
   "nbconvert_exporter": "python",
   "pygments_lexer": "ipython3",
   "version": "3.10.9"
  }
 },
 "nbformat": 4,
 "nbformat_minor": 5
}
